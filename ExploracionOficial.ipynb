{
  "nbformat": 4,
  "nbformat_minor": 0,
  "metadata": {
    "colab": {
      "provenance": [],
      "authorship_tag": "ABX9TyPCDJVR5mwve4LHt/VcFTUO",
      "include_colab_link": true
    },
    "kernelspec": {
      "name": "python3",
      "display_name": "Python 3"
    },
    "language_info": {
      "name": "python"
    }
  },
  "cells": [
    {
      "cell_type": "markdown",
      "metadata": {
        "id": "view-in-github",
        "colab_type": "text"
      },
      "source": [
        "<a href=\"https://colab.research.google.com/github/HectorManu/explor_first_article/blob/main/ExploracionOficial.ipynb\" target=\"_parent\"><img src=\"https://colab.research.google.com/assets/colab-badge.svg\" alt=\"Open In Colab\"/></a>"
      ]
    },
    {
      "cell_type": "markdown",
      "source": [
        "# Índice \n",
        "\n",
        "1. [Importa las librerías](#importandopaquetes)\n",
        "2. [Sí eres visitante importa los datos](#importacionvisitante)\n",
        "3. [Importanción de datos nativo](#importacion)\n"
      ],
      "metadata": {
        "id": "WgPFDV-uNX6b"
      }
    },
    {
      "cell_type": "markdown",
      "source": [
        "<a name='importandopaquetes'></a>\n",
        "# Importando paquetes"
      ],
      "metadata": {
        "id": "12n5TT-C8zYJ"
      }
    },
    {
      "cell_type": "code",
      "source": [
        "from google.colab import drive\n",
        "drive.mount('/content/drive')"
      ],
      "metadata": {
        "colab": {
          "base_uri": "https://localhost:8080/"
        },
        "id": "Ga5yKcSwB231",
        "outputId": "9669d38a-71e6-43ea-91a1-d6f1bd651a83"
      },
      "execution_count": 1,
      "outputs": [
        {
          "output_type": "stream",
          "name": "stdout",
          "text": [
            "Mounted at /content/drive\n"
          ]
        }
      ]
    },
    {
      "cell_type": "code",
      "source": [
        "import pandas as pd\n",
        "import numpy as np \n",
        "import matplotlib.pyplot as plt"
      ],
      "metadata": {
        "id": "4ozV-NLY9B-w"
      },
      "execution_count": 2,
      "outputs": []
    },
    {
      "cell_type": "markdown",
      "source": [
        "<a name='importacionvisitante'></a>\n",
        "# Importación de datos si eres visitante\n",
        "\n",
        "Importación de pandas con los datos Myshared, *Recuerda que te debieron compartir los datos* \n",
        "\n",
        "De no tener los datos en tu Drive da clic [Aquí](https://drive.google.com/drive/folders/1dblF0f_2JZGNJ_3jqEDQJTJLK-DmbklN?usp=sharing)\n",
        "\n",
        "Y añadela a un acceso directo a una carpeta de preferencia y añada una celda de código "
      ],
      "metadata": {
        "id": "Pl5UKNPjMxPh"
      }
    },
    {
      "cell_type": "markdown",
      "source": [
        "\n",
        "\n",
        "```Python\n",
        "ruta = \n",
        "data_2004_2021 = pd.read_csv()\n",
        "```\n",
        "\n"
      ],
      "metadata": {
        "id": "df_-BR_K8FHw"
      }
    },
    {
      "cell_type": "markdown",
      "source": [
        "# Gráfico en circulos para detectar qué cultivos son los que se toman en cuenta cada año "
      ],
      "metadata": {
        "id": "ynHAaWDeMTr0"
      }
    },
    {
      "cell_type": "code",
      "source": [],
      "metadata": {
        "id": "GkXu9ktNMaL7"
      },
      "execution_count": null,
      "outputs": []
    },
    {
      "cell_type": "markdown",
      "source": [
        "# Importación de datos de no ser visitante\n"
      ],
      "metadata": {
        "id": "LwTfiE_TMwUW"
      }
    },
    {
      "cell_type": "code",
      "source": [
        "data_ABS = pd.read_csv('/content/drive/MyDrive/Talenland/OFICIAL-2004-2021-ABS.csv')\n",
        "data_REL = pd.read_csv('/content/drive/MyDrive/Talenland/OFICIAL-2004-2021-REL.csv')"
      ],
      "metadata": {
        "id": "iLHoacED70jH"
      },
      "execution_count": null,
      "outputs": []
    },
    {
      "cell_type": "code",
      "source": [
        "headers = data_ABS.columns\n",
        "print(headers)"
      ],
      "metadata": {
        "colab": {
          "base_uri": "https://localhost:8080/"
        },
        "id": "jAos7vPPCUKj",
        "outputId": "01ed927d-1236-463a-9327-5d7f0e1cdd74"
      },
      "execution_count": null,
      "outputs": [
        {
          "output_type": "stream",
          "name": "stdout",
          "text": [
            "Index(['ENTIDAD', 'ENE_PRE', 'FEB_PRE', 'MAR_PRE', 'ABR_PRE', 'MAY_PRE',\n",
            "       'JUN_PRE', 'JUL_PRE', 'AGO_PRE', 'SEP_PRE', 'OCT_PRE', 'NOV_PRE',\n",
            "       'DIC_PRE', 'ENE_TM', 'FEB_TM', 'MAR_TM', 'ABR_TM', 'MAY_TM', 'JUN_TM',\n",
            "       'JUL_TM', 'AGO_TM', 'SEP_TM', 'OCT_TM', 'NOV_TM', 'DIC_TM', 'ENE_TMAX',\n",
            "       'FEB_TMAX', 'MAR_TMAX', 'ABR_TMAX', 'MAY_TMAX', 'JUN_TMAX', 'JUL_TMAX',\n",
            "       'AGO_TMAX', 'SEP_TMAX', 'OCT_TMAX', 'NOV_TMAX', 'DIC_TMAX', 'ENE_TMIN',\n",
            "       'FEB_TMIN', 'MAR_TMIN', 'ABR_TMIN', 'MAY_TMIN', 'JUN_TMIN', 'JUL_TMIN',\n",
            "       'AGO_TMIN', 'SEP_TMIN', 'OCT_TMIN', 'NOV_TMIN', 'DIC_TMIN', 'EXT_TERR',\n",
            "       'PRODUCCION'],\n",
            "      dtype='object')\n"
          ]
        }
      ]
    },
    {
      "cell_type": "code",
      "source": [
        "# Filtrar los datos para obtener solo las filas con \"Aguascalientes\" en la columna \"ENTIDAD\"\n",
        "data_aguascalientes = data_ABS[data_ABS[\"ENTIDAD\"] == \"Aguascalientes\"]\n",
        "\n",
        "# Obtener los valores de la columna \"POBLACION\" para Aguascalientes\n",
        "poblacion_aguascalientes = data_aguascalientes[\"ENE_PRE\"]\n",
        "\n",
        "# Crear el gráfico de barras\n",
        "plt.bar(range(len(poblacion_aguascalientes)), poblacion_aguascalientes)\n",
        "\n",
        "# Configurar etiquetas del eje x con los índices de las filas\n",
        "plt.xticks(range(len(poblacion_aguascalientes)), data_aguascalientes.index)\n",
        "\n",
        "# Configurar etiquetas y título del gráfico\n",
        "plt.xlabel(\"Índice\")\n",
        "plt.ylabel(\"Población\")\n",
        "plt.title(\"Población de Aguascalientes\")\n",
        "\n",
        "# Mostrar el gráfico\n",
        "plt.show()"
      ],
      "metadata": {
        "id": "QgxBHQVUEUP1",
        "colab": {
          "base_uri": "https://localhost:8080/",
          "height": 448
        },
        "outputId": "3f082a1b-d9c8-4072-87bb-cec5457062ca"
      },
      "execution_count": null,
      "outputs": [
        {
          "output_type": "display_data",
          "data": {
            "text/plain": [
              "<Figure size 640x480 with 1 Axes>"
            ],
            "image/png": "[encoded data removed]"
          },
          "metadata": {}
        }
      ]
    },
    {
      "cell_type": "code",
      "source": [],
      "metadata": {
        "id": "DGyaDIEpJgS5"
      },
      "execution_count": null,
      "outputs": []
    }
  ]
}